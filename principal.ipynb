{
 "cells": [
  {
   "attachments": {},
   "cell_type": "markdown",
   "metadata": {},
   "source": [
    "# Entendimento do Negócio"
   ]
  },
  {
   "attachments": {},
   "cell_type": "markdown",
   "metadata": {},
   "source": [
    "## IBP - Índice Brasileiro de Privação\n",
    "    O índice brasileiro de privação é baseado em Níveis socioeconômicos variam por região no Brasil. O IBP foi calculado estatisticamente a partir dos indicadores de renda, escolaridade e condições do domicílio da população de cada território. "
   ]
  },
  {
   "attachments": {},
   "cell_type": "markdown",
   "metadata": {},
   "source": [
    "## Furto e Roubo dos municípios do estado de São Paulo\n",
    "    Modalidades de Furto e Roubo no site da Secretaria de Segurança Pública do estado de São Paulo são:\n",
    "        •ROUBO - OUTROS\t\n",
    "        •ROUBO DE VEÍCULO\t\n",
    "        •ROUBO A BANCO\n",
    "        •ROUBO DE CARGA\n",
    "        •FURTO - OUTROS\n",
    "        •FURTO DE VEÍCULO"
   ]
  },
  {
   "attachments": {},
   "cell_type": "markdown",
   "metadata": {},
   "source": [
    "# Entendimento dos Dados"
   ]
  },
  {
   "attachments": {},
   "cell_type": "markdown",
   "metadata": {},
   "source": [
    "## DataSets\n",
    "\n",
    "    • \"BDI_Municipalities-Level_Short.csv\" - temos os nomes do municípios, região e seus índices. \n",
    "    • \"municipios.txt\" - temos os nomes de todos os municípios em ordem.\n",
    "    • \"POPULAÇÃO SP 2021.xlsx\" - população dos municípios do estado de São Paulo do ano de 2021."
   ]
  },
  {
   "attachments": {},
   "cell_type": "markdown",
   "metadata": {},
   "source": [
    "# Preparação dos Dados"
   ]
  },
  {
   "attachments": {},
   "cell_type": "markdown",
   "metadata": {},
   "source": [
    "## Coleta de Dados de Furto e Roubo\n",
    "    Nesta estapa, vou coletar os dados de Furto e Roubo no site da SSP/SP. Preciso utilizar a técnica de WebScrapping porque eles não fornecem o dataset necessário. Vou coletar os dados e somar todos para criar a somatória de furto e roubo. "
   ]
  },
  {
   "attachments": {},
   "cell_type": "markdown",
   "metadata": {},
   "source": [
    "Módulos"
   ]
  },
  {
   "cell_type": "code",
   "execution_count": 3,
   "metadata": {},
   "outputs": [],
   "source": [
    "# Ferramentas do Selenium para WebScraping\n",
    "import selenium\n",
    "from selenium import webdriver\n",
    "from selenium.webdriver.common.by import By\n",
    "from selenium.webdriver.common.keys import Keys\n",
    "from selenium.webdriver.support.ui import Select\n",
    "\n",
    "# Manipulação de Dados\n",
    "import pandas as pd \n",
    "\n",
    "# Recurso necessário para a função lastnum_sdot()\n",
    "import re\n",
    "\n",
    "# Limpar terminal\n",
    "import os"
   ]
  },
  {
   "attachments": {},
   "cell_type": "markdown",
   "metadata": {},
   "source": [
    "Funções"
   ]
  },
  {
   "cell_type": "code",
   "execution_count": null,
   "metadata": {},
   "outputs": [],
   "source": [
    "# Função para limpar o terminal\n",
    "def limpar():\n",
    "     os.system('cls')\n",
    "     \n",
    "# Status de quanto falta para completar a coleta\n",
    "def carregamento(contador):\n",
    "    max = 645\n",
    "    count = contador\n",
    "    print(f\"Está faltando {max - count} para completar {max} ({count}/{max})\")\n",
    "\n",
    "# Pegar o último número exato com ponto dentro de uma string \n",
    "def lastnum_sdot(text):\n",
    "        texto = text\n",
    "        padrao = r'\\b\\d+(\\.\\d+)?\\b$'\n",
    "        match = re.search(padrao, texto)\n",
    "        if match:\n",
    "            numero = match.group(0)\n",
    "        else:\n",
    "            print(\"Nenhum número encontrado.\")\n",
    "        numero_sem_ponto = numero.replace('.', '')\n",
    "        return int(numero_sem_ponto)"
   ]
  },
  {
   "attachments": {},
   "cell_type": "markdown",
   "metadata": {},
   "source": [
    "Variáveis"
   ]
  },
  {
   "cell_type": "code",
   "execution_count": null,
   "metadata": {},
   "outputs": [],
   "source": [
    "# Abrir o Google\n",
    "navegador = webdriver.Chrome()\n",
    "\n",
    "# Entrar no Site\n",
    "navegador.get(\"https://www.ssp.sp.gov.br/estatistica/pesquisa.aspx\")\n",
    "\n",
    "# Seleciona Ocorrência Registrada por Mês\n",
    "navegador.find_element(By.XPATH, '/html/body/div[3]/div/div[1]/form/div[3]/div[1]/div[5]/div[1]/div/a').send_keys(Keys.ENTER)\n",
    "\n",
    "# Transformando arquivo .txt em .csv para construir tabela principal\n",
    "main_frame = pd.read_csv(\"municipios.txt\", delimiter='\\t')\n",
    "\n",
    "# Adicionando coluna para inserção de dados\n",
    "main_frame[\"Furto e Roubo\"] = 0"
   ]
  },
  {
   "attachments": {},
   "cell_type": "markdown",
   "metadata": {},
   "source": [
    "WebScrapping"
   ]
  },
  {
   "cell_type": "code",
   "execution_count": null,
   "metadata": {},
   "outputs": [],
   "source": [
    "# Laço para repetir município por município\n",
    "for c1 in range(0,645): # c1 vai ser usado como índice para associar os municípios\n",
    "    limpar() # Usado para manter somente o print da função abaixo\n",
    "    carregamento(c1) # Usado para dizer para o usuário quanto que falta para finalizar\n",
    "    coletor = [] # Variável para manipulação e armazenagem dos dados filtrados\n",
    "\n",
    "    select_box1 = Select(navegador.find_element(By.XPATH, '/html/body/div[3]/div/div[1]/form/div[3]/div[1]/div[3]/div[1]/div/select')) # Identificação da Caixa de Seleção Suspensa do município\n",
    "    select_box1.select_by_index(c1 + 1) # Selecionar o município pelo índice\n",
    "\n",
    "    table = navegador.find_element(By.CSS_SELECTOR, '[id=\"conteudo_repAnos_gridDados_2\"]') # Identificação da Tabela Principal 2023\n",
    "    \n",
    "    # Seleção, coleta, filtragem e manipulação dos dados\n",
    "    trs = table.find_elements(By.TAG_NAME, \"tr\") # Selecionar as linhas da tabela\n",
    "    for td in trs: # Percorrer cada linha da tabela\n",
    "\n",
    "        # Condicional para capturar somente os números necessários\n",
    "        if \"TOTAL DE ROUBO - OUTROS (1)\" in td.text:\n",
    "            coletor.append(lastnum_sdot(td.text))\n",
    "        if \"ROUBO DE VEÍCULO\" in td.text:\n",
    "            coletor.append(lastnum_sdot(td.text))\n",
    "        if \"FURTO - OUTROS\"\tin td.text:\n",
    "            coletor.append(lastnum_sdot(td.text))\n",
    "        if \"FURTO DE VEÍCULO\"\tin td.text:\n",
    "            coletor.append(lastnum_sdot(td.text))\n",
    "        \n",
    "    input_frame = sum(coletor) # Somar todos os dados coletados de um município\n",
    "    main_frame.loc[c1, 'Furto e Roubo'] = input_frame # Armazenar na tabela principal, sendo c1 o índice na coluna \"Furto e Roubo\"\n",
    "\n",
    "    # Resetar para o estado limpo da página\n",
    "    select_box2 = Select(navegador.find_element(By.XPATH, '/html/body/div[3]/div/div[1]/form/div[3]/div[1]/div[2]/div[2]/div/select')) # Identificação da Caixa de Seleção Suspensa de Região\n",
    "    select_box2.select_by_index(0) # Selecionar \"Todos\" na caixa"
   ]
  },
  {
   "attachments": {},
   "cell_type": "markdown",
   "metadata": {},
   "source": [
    "Exportação do dataset"
   ]
  },
  {
   "cell_type": "code",
   "execution_count": null,
   "metadata": {},
   "outputs": [],
   "source": [
    "# Produto final\n",
    "main_frame.to_excel('produto_pronto2021.xlsx', index=False)"
   ]
  },
  {
   "attachments": {},
   "cell_type": "markdown",
   "metadata": {},
   "source": [
    "## Desenvolvendo dataset principal "
   ]
  },
  {
   "attachments": {},
   "cell_type": "markdown",
   "metadata": {},
   "source": [
    "Upload dos datasets externos"
   ]
  },
  {
   "cell_type": "code",
   "execution_count": 4,
   "metadata": {},
   "outputs": [],
   "source": [
    "arquivo1 = pd.read_excel(\"POPULAÇÃO SP 2021.xlsx\") # Dados com os MUNICÍPIOS e POPULAÇÃO\n",
    "arquivo2 = pd.read_excel(\"Privat.xlsx\") # Dados com o ÍNDICE DE PRIVAÇÃO\n",
    "arquivo3 = pd.read_excel(\"produto_pronto2021.xlsx\") # Dados com a quantidade de FURTO E ROUBO"
   ]
  },
  {
   "attachments": {},
   "cell_type": "markdown",
   "metadata": {},
   "source": [
    "Modelagem do DataFrame"
   ]
  },
  {
   "cell_type": "code",
   "execution_count": 5,
   "metadata": {},
   "outputs": [],
   "source": [
    "maindf = pd.DataFrame()\n",
    "maindf[\"municipios\"] = arquivo1['Municípios'] # Nome dos Municípios\n",
    "maindf[\"indice\"] = arquivo2['q_measure_1f_12'] # Índice de Privação\n",
    "maindf[\"pop\"] = arquivo1['População'] # População dos Municípios\n",
    "maindf[\"furto_e_roubo\"] = arquivo3['Furto e Roubo'] # Furto e Roubo0\n",
    "maindf[\"tc_hab\"] = (((maindf[\"furto_e_roubo\"]/maindf[\"pop\"]) * (10**5)).round(0)).astype(int) # Taxa de Furto e Roubo por 100 mil habitantes"
   ]
  },
  {
   "attachments": {},
   "cell_type": "markdown",
   "metadata": {},
   "source": [
    "# Modelagem dos Dados"
   ]
  },
  {
   "attachments": {},
   "cell_type": "markdown",
   "metadata": {},
   "source": [
    "Módulos"
   ]
  },
  {
   "cell_type": "code",
   "execution_count": 6,
   "metadata": {},
   "outputs": [],
   "source": [
    "# Manipulação de Ddos\n",
    "from itertools import chain\n",
    "import numpy as np\n",
    "\n",
    "# Modelo de Regressão Linear, métricas e separação de treino e teste\n",
    "from sklearn.model_selection import train_test_split\n",
    "from sklearn.linear_model import LinearRegression\n",
    "from sklearn import metrics"
   ]
  },
  {
   "attachments": {},
   "cell_type": "markdown",
   "metadata": {},
   "source": [
    "Funções"
   ]
  },
  {
   "cell_type": "code",
   "execution_count": 7,
   "metadata": {},
   "outputs": [],
   "source": [
    "# Função para calcular MAPE\n",
    "def mean_absolute_percentage_error(y_true, y_pred): \n",
    "    y_true, y_pred = np.array(y_true), np.array(y_pred)\n",
    "    return np.mean(np.abs((y_true - y_pred) / y_true)) * 100"
   ]
  },
  {
   "attachments": {},
   "cell_type": "markdown",
   "metadata": {},
   "source": [
    "Regressão Linear"
   ]
  },
  {
   "cell_type": "code",
   "execution_count": 8,
   "metadata": {},
   "outputs": [],
   "source": [
    "X = maindf[['indice']]  # Atributo\n",
    "y = maindf['tc_hab']  # Variável alvo\n",
    "\n",
    "# Separação de Teste e Treino\n",
    "X_train, X_test, y_train, y_test = train_test_split(X, y, test_size=0.2, random_state=42)\n",
    "\n",
    "# Ajustando o modelo\n",
    "model = LinearRegression()\n",
    "model.fit(X_train, y_train)\n",
    "\n",
    "# Previsão do Modelo\n",
    "y_pred = model.predict(X_test)"
   ]
  },
  {
   "attachments": {},
   "cell_type": "markdown",
   "metadata": {},
   "source": [
    "# Avaliação"
   ]
  },
  {
   "attachments": {},
   "cell_type": "markdown",
   "metadata": {},
   "source": [
    "Módulos"
   ]
  },
  {
   "cell_type": "code",
   "execution_count": 9,
   "metadata": {},
   "outputs": [],
   "source": [
    "# Visualização de Dados\n",
    "import seaborn as sns\n",
    "from matplotlib import pyplot as plt"
   ]
  },
  {
   "attachments": {},
   "cell_type": "markdown",
   "metadata": {},
   "source": [
    "Resposta do Modelo"
   ]
  },
  {
   "cell_type": "code",
   "execution_count": 10,
   "metadata": {},
   "outputs": [
    {
     "name": "stdout",
     "output_type": "stream",
     "text": [
      "MAE: 367.626588593681\n",
      "MSE: 859757.442330714\n",
      "RMSE: 927.231061996261\n",
      "Train R^2: 1.5421865766862553e-05\n",
      "Test R^2: 0.0006371249253614986\n",
      "Train MAPE: 52.99485599253701\n",
      "Test MAPE: 66.22619140949233\n"
     ]
    }
   ],
   "source": [
    "\n",
    "# Resposta do modelo\n",
    "print('MAE:', metrics.mean_absolute_error(y_test, y_pred)) # Mean Absolute Error\n",
    "print('MSE:', metrics.mean_squared_error(y_test, y_pred)) # Mean Squared Error\n",
    "print('RMSE:', np.sqrt(metrics.mean_squared_error(y_test, y_pred))) # Root Mean Squared Error\n",
    "\n",
    "# Proporção da Variabilidade da Variável \n",
    "print('Train R^2:', model.score(X_train, y_train)) \n",
    "print('Test R^2:', model.score(X_test, y_test))\n",
    "\n",
    "# Fazendo as previsões\n",
    "y_train_pred = model.predict(X_train)\n",
    "y_test_pred = model.predict(X_test)\n",
    "\n",
    "# Calculando MAPE(Mean Absolute Percentage Error)para os conjuntos de treinamento e teste\n",
    "print('Train MAPE:', mean_absolute_percentage_error(y_train, y_train_pred))\n",
    "print('Test MAPE:', mean_absolute_percentage_error(y_test, y_test_pred))"
   ]
  },
  {
   "attachments": {},
   "cell_type": "markdown",
   "metadata": {},
   "source": [
    "Visualização da Regressão Linear"
   ]
  },
  {
   "cell_type": "code",
   "execution_count": 11,
   "metadata": {},
   "outputs": [
    {
     "name": "stdout",
     "output_type": "stream",
     "text": [
      "Coeficiente de correlação de Pearson: -0.046070456810947596\n"
     ]
    }
   ],
   "source": [
    "from scipy.stats import pearsonr\n",
    "# Calculando o coeficiente de correlação de Pearson\n",
    "corr, _ = pearsonr(list(chain.from_iterable(X.values)), y)\n",
    "\n",
    "# Imprimindo o resultado\n",
    "print(\"Coeficiente de correlação de Pearson:\", corr)"
   ]
  },
  {
   "cell_type": "code",
   "execution_count": 12,
   "metadata": {},
   "outputs": [
    {
     "data": {
      "image/png": "[encoded data removed]",
      "text/plain": [
       "<Figure size 640x480 with 1 Axes>"
      ]
     },
     "metadata": {},
     "output_type": "display_data"
    }
   ],
   "source": [
    "# Previsões para o dataset todo\n",
    "y_pred_all = model.predict(X)\n",
    "\n",
    "# Cria a figura e o eixo\n",
    "fig, ax = plt.subplots()\n",
    "\n",
    "# Plota os dados reais\n",
    "ax.scatter(X, y, color='blue', label='Dados reais')\n",
    "\n",
    "# Plota a linha de regressão\n",
    "ax.plot(X.indice.values, y_pred_all, color='red', label='Linha de regressão')\n",
    "\n",
    "# Define o título e as legendas\n",
    "ax.set_title('Regressão Linear')\n",
    "ax.set_xlabel('Índice de privação')\n",
    "ax.set_ylabel('Taxa de crimes por 100k habitantes')\n",
    "ax.set_xticks([1,2,3,4,5])\n",
    "\n",
    "ax.legend()\n",
    "\n",
    "# Mostra o gráfico\n",
    "plt.show()"
   ]
  },
  {
   "cell_type": "code",
   "execution_count": 13,
   "metadata": {},
   "outputs": [
    {
     "data": {
      "text/plain": [
       "<matplotlib.legend.Legend at 0x1d969e58550>"
      ]
     },
     "execution_count": 13,
     "metadata": {},
     "output_type": "execute_result"
    },
    {
     "data": {
      "image/png": "[encoded data removed]",
      "text/plain": [
       "<Figure size 640x480 with 1 Axes>"
      ]
     },
     "metadata": {},
     "output_type": "display_data"
    }
   ],
   "source": [
    "# Cria a figura e o eixo\n",
    "fig, ax = plt.subplots()\n",
    "\n",
    "# Plota a linha de regressão\n",
    "ax.plot(X.indice.values, y_pred_all, color='red', label='Linha de regressão')\n",
    "\n",
    "# Define o título e as legendas\n",
    "ax.set_title('Visualização Gráfica')\n",
    "ax.set_xlabel('Índice de privação')\n",
    "ax.set_ylabel('Taxa de crimes por 100k habitantes')\n",
    "ax.set_xticks([1,2,3,4,5])\n",
    "ax.legend()"
   ]
  },
  {
   "attachments": {},
   "cell_type": "markdown",
   "metadata": {},
   "source": [
    "# Implantação / Finalização"
   ]
  },
  {
   "attachments": {},
   "cell_type": "markdown",
   "metadata": {},
   "source": [
    "## Conclusão.\n",
    "    Em resumo, com base nos resultados, o modelo de regressão linear parece ter um desempenho insatisfatório, pois apresenta altos valores de erros (MAE, MSE, RMSE) e valores muito baixos de R^2. Além disso, o MAPE indica que as previsões do modelo têm um erro absoluto significativo em relação aos valores reais, tanto no conjunto de treinamento quanto no conjunto de teste."
   ]
  }
 ],
 "metadata": {
  "kernelspec": {
   "display_name": "Python 3",
   "language": "python",
   "name": "python3"
  },
  "language_info": {
   "codemirror_mode": {
    "name": "ipython",
    "version": 3
   },
   "file_extension": ".py",
   "mimetype": "text/x-python",
   "name": "python",
   "nbconvert_exporter": "python",
   "pygments_lexer": "ipython3",
   "version": "3.10.0"
  },
  "orig_nbformat": 4
 },
 "nbformat": 4,
 "nbformat_minor": 2
}
